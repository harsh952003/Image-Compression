{
 "cells": [
  {
   "cell_type": "markdown",
   "metadata": {},
   "source": [
    "### **HARSH PATEL DS SEM 7**"
   ]
  },
  {
   "cell_type": "markdown",
   "metadata": {},
   "source": [
    "1. Implement functions for encoding and decoding an image using the following methods:\n",
    "A. Transform Coding (using DCT for forward transform)\n",
    "B. Huffman Encoding\n",
    "C. LZW Encoding\n",
    "D. Run-Length Encoding\n",
    "E. Arithmetic Coding\n",
    "For each method, display the Compression Ratio and calculate the Root Mean Square Error (RMSE) between the original and reconstructed image to quantify any loss of information."
   ]
  },
  {
   "cell_type": "markdown",
   "metadata": {},
   "source": [
    "### 1. Transform Coding (DCT)"
   ]
  },
  {
   "cell_type": "code",
   "execution_count": 5,
   "metadata": {},
   "outputs": [
    {
     "name": "stdout",
     "output_type": "stream",
     "text": [
      "DCT Compression Ratio: 1.0, RMSE: 1.8099436130586364e-16\n"
     ]
    }
   ],
   "source": [
    "import numpy as np\n",
    "from scipy.fftpack import dct, idct\n",
    "from skimage import io\n",
    "\n",
    "def dct_encode(image):\n",
    "    # Apply DCT\n",
    "    dct_image = dct(dct(image.T, norm='ortho').T, norm='ortho')\n",
    "    return dct_image\n",
    "\n",
    "def dct_decode(dct_image):\n",
    "    # Apply inverse DCT\n",
    "    reconstructed_image = idct(idct(dct_image.T, norm='ortho').T, norm='ortho')\n",
    "    return np.clip(reconstructed_image, 0, 255)\n",
    "\n",
    "def calculate_rmse(original, reconstructed):\n",
    "    return np.sqrt(np.mean((original - reconstructed) ** 2))\n",
    "\n",
    "def calculate_compression_ratio(original_size, compressed_size):\n",
    "    return original_size / compressed_size\n",
    "\n",
    "# Example usage\n",
    "image = io.imread('giraffe.jpg', as_gray=True)\n",
    "dct_image = dct_encode(image)\n",
    "reconstructed_image = dct_decode(dct_image)\n",
    "\n",
    "original_size = image.size\n",
    "compressed_size = dct_image.size  # Simplified for demonstration\n",
    "cr = calculate_compression_ratio(original_size, compressed_size)\n",
    "rmse = calculate_rmse(image, reconstructed_image)\n",
    "print(f'DCT Compression Ratio: {cr}, RMSE: {rmse}')"
   ]
  },
  {
   "cell_type": "markdown",
   "metadata": {},
   "source": [
    "### 2. Huffman Encoding"
   ]
  },
  {
   "cell_type": "code",
   "execution_count": 8,
   "metadata": {},
   "outputs": [
    {
     "name": "stdout",
     "output_type": "stream",
     "text": [
      "Huffman Encoded Data: 10000001101011111011111010001010101100011100100001001111001111101110110, Codes: {'x': '0000', 's': '0001', 't': '001', ' ': '010', 'g': '0110', 'n': '0111', 'e': '100', 'd': '1010', 'm': '1011', 'a': '110', 'r': '11100', 'p': '11101', 'l': '11110', 'i': '11111'}\n"
     ]
    }
   ],
   "source": [
    "import heapq\n",
    "from collections import defaultdict\n",
    "\n",
    "class Node:\n",
    "    def __init__(self, char, freq):\n",
    "        self.char = char\n",
    "        self.freq = freq\n",
    "        self.left = None\n",
    "        self.right = None\n",
    "\n",
    "    def __lt__(self, other):\n",
    "        return self.freq < other.freq\n",
    "\n",
    "def huffman_encoding(data):\n",
    "    frequency = defaultdict(int)\n",
    "    for char in data:\n",
    "        frequency[char] += 1\n",
    "    \n",
    "    heap = [Node(char, freq) for char, freq in frequency.items()]\n",
    "    heapq.heapify(heap)\n",
    "\n",
    "    while len(heap) > 1:\n",
    "        left = heapq.heappop(heap)\n",
    "        right = heapq.heappop(heap)\n",
    "        merged = Node(None, left.freq + right.freq)\n",
    "        merged.left = left\n",
    "        merged.right = right\n",
    "        heapq.heappush(heap, merged)\n",
    "\n",
    "    root = heap[0]\n",
    "    huffman_codes = {}\n",
    "    \n",
    "    def generate_codes(node, current_code=\"\"):\n",
    "        if node is not None:\n",
    "            if node.char is not None:\n",
    "                huffman_codes[node.char] = current_code\n",
    "            generate_codes(node.left, current_code + \"0\")\n",
    "            generate_codes(node.right, current_code + \"1\")\n",
    "\n",
    "    generate_codes(root)\n",
    "\n",
    "    encoded_data = ''.join(huffman_codes[char] for char in data)\n",
    "    return encoded_data, huffman_codes\n",
    "\n",
    "# Example usage with binary data from an image.\n",
    "data = 'example data string'\n",
    "encoded_data, codes = huffman_encoding(data)\n",
    "print(f'Huffman Encoded Data: {encoded_data}, Codes: {codes}')"
   ]
  },
  {
   "cell_type": "markdown",
   "metadata": {},
   "source": [
    "### 3. LZW Encoding"
   ]
  },
  {
   "cell_type": "code",
   "execution_count": 11,
   "metadata": {},
   "outputs": [
    {
     "name": "stdout",
     "output_type": "stream",
     "text": [
      "LZW Encoded Output: [101, 120, 97, 109, 112, 108, 101, 32, 100, 97, 116, 97, 32, 115, 116, 114, 105, 110, 103]\n"
     ]
    }
   ],
   "source": [
    "def lzw_encode(input_string):\n",
    "    max_table_size = 2 ** 12  # Limit dictionary size to 4096 entries.\n",
    "    dictionary = {chr(i): i for i in range(256)}\n",
    "    p = \"\"\n",
    "    code = 256\n",
    "    output_codes = []\n",
    "\n",
    "    for c in input_string:\n",
    "        pc = p + c\n",
    "        if pc in dictionary:\n",
    "            p = pc\n",
    "        else:\n",
    "            output_codes.append(dictionary[p])\n",
    "            if code < max_table_size:\n",
    "                dictionary[pc] = code\n",
    "                code += 1\n",
    "            p = c\n",
    "    \n",
    "    if p:\n",
    "        output_codes.append(dictionary[p])\n",
    "    \n",
    "    return output_codes\n",
    "\n",
    "# Example usage with binary data from an image.\n",
    "data_string = 'example data string'\n",
    "lzw_encoded_output = lzw_encode(data_string)\n",
    "print(f'LZW Encoded Output: {lzw_encoded_output}')"
   ]
  },
  {
   "cell_type": "markdown",
   "metadata": {},
   "source": [
    "### 4. Run-Length Encoding (RLE)"
   ]
  },
  {
   "cell_type": "code",
   "execution_count": 15,
   "metadata": {},
   "outputs": [
    {
     "name": "stdout",
     "output_type": "stream",
     "text": [
      "RLE Encoded Output: [('e', 1), ('x', 1), ('a', 1), ('m', 1), ('p', 1), ('l', 1), ('e', 1), (' ', 1), ('d', 1), ('a', 1), ('t', 1), ('a', 1), (' ', 1), ('s', 1), ('t', 1), ('r', 1), ('i', 1), ('n', 1), ('g', 1)]\n"
     ]
    }
   ],
   "source": [
    "def rle_encode(data):\n",
    "    encoding = []\n",
    "    prev_char = ''\n",
    "    count = 1\n",
    "\n",
    "    for char in data:\n",
    "        if char != prev_char:\n",
    "            if prev_char:\n",
    "                encoding.append((prev_char, count))\n",
    "            count = 1\n",
    "            prev_char = char\n",
    "        else:\n",
    "            count += 1\n",
    "            \n",
    "    encoding.append((prev_char, count))\n",
    "    \n",
    "    return encoding\n",
    "\n",
    "# Example usage with binary data from an image.\n",
    "data_string_rle = 'example data string'\n",
    "rle_encoded_output = rle_encode(data_string_rle)\n",
    "print(f'RLE Encoded Output: {rle_encoded_output}')"
   ]
  },
  {
   "cell_type": "markdown",
   "metadata": {},
   "source": [
    "### 5. Arithmetic Coding"
   ]
  },
  {
   "cell_type": "code",
   "execution_count": 19,
   "metadata": {},
   "outputs": [
    {
     "name": "stdout",
     "output_type": "stream",
     "text": [
      "Arithmetic Encoded Value: 0.4166348997284715\n"
     ]
    }
   ],
   "source": [
    "def arithmetic_encoding(data):\n",
    "    frequency = defaultdict(int)\n",
    "    \n",
    "    for char in data:\n",
    "        frequency[char] += 1\n",
    "    \n",
    "    total_chars = sum(frequency.values())\n",
    "    \n",
    "    cumulative_frequency = {}\n",
    "    cumulative_sum = 0\n",
    "    \n",
    "    for char in sorted(frequency.keys()):\n",
    "        cumulative_frequency[char] = cumulative_sum / total_chars\n",
    "        cumulative_sum += frequency[char]\n",
    "\n",
    "    low, high = 0.0, 1.0\n",
    "    \n",
    "    for char in data:\n",
    "        range_width = high - low\n",
    "        high = low + range_width * (cumulative_frequency[char] + frequency[char] / total_chars)\n",
    "        low += range_width * cumulative_frequency[char]\n",
    "\n",
    "    return (low + high) / 2\n",
    "\n",
    "# Example usage with binary data from an image.\n",
    "data_string_arithmetic = 'example data string'\n",
    "arithmetic_encoded_value = arithmetic_encoding(data_string_arithmetic)\n",
    "print(f'Arithmetic Encoded Value: {arithmetic_encoded_value}')"
   ]
  }
 ],
 "metadata": {
  "kernelspec": {
   "display_name": "Python 3",
   "language": "python",
   "name": "python3"
  },
  "language_info": {
   "codemirror_mode": {
    "name": "ipython",
    "version": 3
   },
   "file_extension": ".py",
   "mimetype": "text/x-python",
   "name": "python",
   "nbconvert_exporter": "python",
   "pygments_lexer": "ipython3",
   "version": "3.11.0"
  }
 },
 "nbformat": 4,
 "nbformat_minor": 2
}
